{
 "cells": [
  {
   "cell_type": "code",
   "execution_count": 1,
   "id": "a359b05d",
   "metadata": {},
   "outputs": [],
   "source": [
    "import sys\n",
    "import os\n",
    "os.chdir(\"..\")\n",
    "os.chdir(\"./src\")\n",
    "# sys.path.append(\"./src\")"
   ]
  },
  {
   "cell_type": "code",
   "execution_count": 2,
   "id": "ca8d306c",
   "metadata": {},
   "outputs": [],
   "source": [
    "from IPython import display\n",
    "from IPython.display import clear_output\n",
    "import pylab as pl\n",
    "import numpy as np\n",
    "from scipy.stats import ortho_group\n",
    "import matplotlib.pyplot as plt\n",
    "from numba import njit, jit\n",
    "from time import time\n",
    "# from helpers import *\n",
    "from BSMBSS import *\n",
    "#np.random.seed(13)\n",
    "import warnings\n",
    "warnings.filterwarnings(\"ignore\")\n",
    "%load_ext autoreload\n",
    "%autoreload 2"
   ]
  },
  {
   "cell_type": "code",
   "execution_count": 3,
   "id": "4d1e035b",
   "metadata": {},
   "outputs": [
    {
     "name": "stdout",
     "output_type": "stream",
     "text": [
      "The following is the correlation matrix of sources\n"
     ]
    },
    {
     "data": {
      "text/latex": [
       "$\\displaystyle \\begin{bmatrix} \n",
       " 1.000 & 0.001 & 0.001 & 0.007 & 0.001 & \\\\\n",
       " 0.001 & 1.000 & -0.008 & -0.003 & -0.001 & \\\\\n",
       " 0.001 & -0.008 & 1.000 & -0.004 & -0.007 & \\\\\n",
       " 0.007 & -0.003 & -0.004 & 1.000 & 0.006 & \\\\\n",
       " 0.001 & -0.001 & -0.007 & 0.006 & 1.000 & \\\\\n",
       "\\end{bmatrix}$"
      ],
      "text/plain": [
       "<IPython.core.display.Math object>"
      ]
     },
     "metadata": {},
     "output_type": "display_data"
    },
    {
     "name": "stdout",
     "output_type": "stream",
     "text": [
      "Input SNR is : 31.489585104123442\n",
      "The following is the mixture matrix A\n"
     ]
    },
    {
     "data": {
      "text/latex": [
       "$\\displaystyle \\begin{bmatrix} \n",
       " 0.397 & -2.599 & -0.353 & 0.544 & 0.654 & \\\\\n",
       " 0.383 & -0.661 & 0.165 & -0.479 & -1.202 & \\\\\n",
       " -0.149 & 0.119 & 1.232 & -1.354 & -1.084 & \\\\\n",
       " -0.620 & -0.115 & 1.087 & 0.708 & 0.236 & \\\\\n",
       " -0.303 & -0.724 & -0.139 & 0.008 & 0.155 & \\\\\n",
       " 0.422 & 0.530 & -0.561 & 0.634 & 0.518 & \\\\\n",
       " -0.667 & -0.356 & -1.018 & 0.186 & 0.448 & \\\\\n",
       " 0.064 & -0.265 & -1.156 & 1.065 & -1.200 & \\\\\n",
       " 0.908 & -0.869 & 0.110 & -0.699 & 0.549 & \\\\\n",
       " 2.734 & 0.955 & 0.789 & -2.375 & -0.726 & \\\\\n",
       "\\end{bmatrix}$"
      ],
      "text/plain": [
       "<IPython.core.display.Math object>"
      ]
     },
     "metadata": {},
     "output_type": "display_data"
    }
   ],
   "source": [
    "N = 100000\n",
    "NumberofSources = 5\n",
    "NumberofMixtures = 10\n",
    "R = np.eye(NumberofSources)\n",
    "# S = generate_correlated_uniform_sources(R, range_ = [-1,1], n_sources = NumberofSources, size_sources = N) \n",
    "S = generate_correlated_copula_sources(rho = 0.2, df = 4, n_sources = NumberofSources, size_sources = N , decreasing_correlation = True)\n",
    "S = 2 * S -1 \n",
    "print(\"The following is the correlation matrix of sources\")\n",
    "display_matrix(np.corrcoef(S))\n",
    "\n",
    "# Generate Mxr random mixing from i.i.d N(0,1)\n",
    "A = np.random.randn(NumberofMixtures,NumberofSources)\n",
    "X = np.dot(A,S)\n",
    "\n",
    "SNR = 30 # dB\n",
    "NoiseAmp = (10 ** (-SNR/20)) #/ np.sqrt(NumberofSources)\n",
    "NoisePart = NoiseAmp * np.random.randn(X.shape[0], X.shape[1])\n",
    "X = X  + NoisePart\n",
    "SNRinp = 10 * np.log10(np.sum(np.var(X, axis = 1)) / np.sum(np.var(NoisePart, axis = 1)))\n",
    "print(\"Input SNR is : {}\".format(SNRinp))\n",
    "print(\"The following is the mixture matrix A\")\n",
    "display_matrix(A)"
   ]
  },
  {
   "cell_type": "code",
   "execution_count": null,
   "id": "0c9d66f3",
   "metadata": {},
   "outputs": [],
   "source": []
  }
 ],
 "metadata": {
  "kernelspec": {
   "display_name": "Python 3 (ipykernel)",
   "language": "python",
   "name": "python3"
  },
  "language_info": {
   "codemirror_mode": {
    "name": "ipython",
    "version": 3
   },
   "file_extension": ".py",
   "mimetype": "text/x-python",
   "name": "python",
   "nbconvert_exporter": "python",
   "pygments_lexer": "ipython3",
   "version": "3.9.7"
  }
 },
 "nbformat": 4,
 "nbformat_minor": 5
}
